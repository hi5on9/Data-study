{
 "cells": [
  {
   "cell_type": "code",
   "execution_count": 5,
   "id": "68815c69",
   "metadata": {},
   "outputs": [],
   "source": [
    "import numpy as np\n",
    "import matplotlib.pyplot as plt\n",
    "import pandas as pd"
   ]
  },
  {
   "cell_type": "code",
   "execution_count": 30,
   "id": "6be5b117",
   "metadata": {},
   "outputs": [
    {
     "data": {
      "image/png": "[encoded data removed]",
      "text/plain": [
       "<Figure size 432x288 with 1 Axes>"
      ]
     },
     "metadata": {
      "needs_background": "light"
     },
     "output_type": "display_data"
    }
   ],
   "source": [
    "X = np.array([6,8,10,15,17])\n",
    "y = np.array([7,9,13,15.3,19.1])\n",
    "\n",
    "plt.figure()\n",
    "plt.plot(X,y,'ro')\n",
    "plt.axis([0,25,0,25])\n",
    "plt.grid()\n",
    "plt.show()"
   ]
  },
  {
   "cell_type": "code",
   "execution_count": 31,
   "id": "688240b9",
   "metadata": {},
   "outputs": [
    {
     "data": {
      "image/png": "[encoded data removed]",
      "text/plain": [
       "<Figure size 432x288 with 1 Axes>"
      ]
     },
     "metadata": {
      "needs_background": "light"
     },
     "output_type": "display_data"
    }
   ],
   "source": [
    "def linear_func1(data):\n",
    "    return data*1.2-0.4\n",
    "def linear_func2(data):\n",
    "    return data*0.8+4.05\n",
    "plt.figure()\n",
    "plt.plot(X,y,'ro')\n",
    "plt.plot(X,linear_func1(X),'k--')\n",
    "plt.plot(X,linear_func2(X),'g--')\n",
    "\n",
    "plt.axis([0,25,0,25])\n",
    "plt.grid()\n",
    "plt.show()"
   ]
  },
  {
   "cell_type": "code",
   "execution_count": 10,
   "id": "02ed725d",
   "metadata": {},
   "outputs": [],
   "source": [
    "from sklearn.linear_model import LinearRegression\n",
    "model= LinearRegression()"
   ]
  },
  {
   "cell_type": "code",
   "execution_count": 32,
   "id": "2a97b009",
   "metadata": {},
   "outputs": [
    {
     "data": {
      "text/plain": [
       "LinearRegression()"
      ]
     },
     "execution_count": 32,
     "metadata": {},
     "output_type": "execute_result"
    }
   ],
   "source": [
    "X = X.reshape(-1,1)  #학습데이터는 2차원 \n",
    "model.fit(X,y)"
   ]
  },
  {
   "cell_type": "code",
   "execution_count": 33,
   "id": "0752c5eb",
   "metadata": {},
   "outputs": [
    {
     "name": "stdout",
     "output_type": "stream",
     "text": [
      "0.9518244215508245\n"
     ]
    }
   ],
   "source": [
    "print(model.score(X,y))"
   ]
  },
  {
   "cell_type": "code",
   "execution_count": 42,
   "id": "030daf9c",
   "metadata": {},
   "outputs": [
    {
     "data": {
      "image/png": "[encoded data removed]",
      "text/plain": [
       "<Figure size 432x288 with 1 Axes>"
      ]
     },
     "metadata": {
      "needs_background": "light"
     },
     "output_type": "display_data"
    }
   ],
   "source": [
    "plt.plot(X,y,'ro')\n",
    "plt.plot(X,model.predict(X),'k--')\n",
    "plt.axis([0,25,0,25])\n",
    "plt.grid()"
   ]
  },
  {
   "cell_type": "code",
   "execution_count": 43,
   "id": "97d7a0ba",
   "metadata": {},
   "outputs": [
    {
     "name": "stdout",
     "output_type": "stream",
     "text": [
      "[1.01520737] 1.3096774193548342\n"
     ]
    }
   ],
   "source": [
    "# y = ax + b\n",
    "# a , b\n",
    "print(model.coef_,model.intercept_)"
   ]
  },
  {
   "cell_type": "code",
   "execution_count": 45,
   "id": "1698789a",
   "metadata": {},
   "outputs": [
    {
     "name": "stdout",
     "output_type": "stream",
     "text": [
      "[ 7.40092166  9.43133641 11.46175115 16.53778802 18.56820276]\n",
      "[[ 7.40092166]\n",
      " [ 9.43133641]\n",
      " [11.46175115]\n",
      " [16.53778802]\n",
      " [18.56820276]]\n"
     ]
    }
   ],
   "source": [
    "predict_1 = model.predict(X)\n",
    "print(predict_1)\n",
    "predict_2 = X * model.coef_ + model.intercept_\n",
    "print(predict_2)"
   ]
  },
  {
   "cell_type": "code",
   "execution_count": 17,
   "id": "25b8f265",
   "metadata": {},
   "outputs": [],
   "source": [
    "# ---- example\n",
    "from sklearn.datasets import load_boston\n",
    "boston = load_boston()\n",
    "\n",
    "X = pd.DataFrame(boston.data)\n",
    "y = pd.Series(boston.target)"
   ]
  },
  {
   "cell_type": "code",
   "execution_count": 18,
   "id": "b18dafc6",
   "metadata": {},
   "outputs": [],
   "source": [
    "from sklearn.model_selection import train_test_split\n",
    "X_train,X_test,y_train,y_test = train_test_split(\n",
    "                    X.values,y.values,random_state=1)"
   ]
  },
  {
   "cell_type": "code",
   "execution_count": 11,
   "id": "b9a34664",
   "metadata": {},
   "outputs": [],
   "source": [
    "from sklearn.neighbors import KNeighborsRegressor\n",
    "\n",
    "knn_model = KNeighborsRegressor(n_neighbors=4).fit(X_train,y_train)\n",
    "lr_model = LinearRegression().fit(X_train,y_train)"
   ]
  },
  {
   "cell_type": "code",
   "execution_count": 12,
   "id": "adad7b83",
   "metadata": {},
   "outputs": [
    {
     "name": "stdout",
     "output_type": "stream",
     "text": [
      "knn: 0.7164251418080176\n",
      "lr: 0.7168057552393374\n"
     ]
    }
   ],
   "source": [
    "print('knn:',knn_model.score(X_train,y_train))\n",
    "print('lr:',lr_model.score(X_train,y_train))"
   ]
  },
  {
   "cell_type": "code",
   "execution_count": 13,
   "id": "c0aa16ef",
   "metadata": {},
   "outputs": [
    {
     "name": "stdout",
     "output_type": "stream",
     "text": [
      "knn_test: 0.5847379837420476\n",
      "lr_test: 0.7789410172622863\n"
     ]
    }
   ],
   "source": [
    "print('knn_test:',knn_model.score(X_test,y_test))\n",
    "print('lr_test:',lr_model.score(X_test,y_test))"
   ]
  },
  {
   "cell_type": "code",
   "execution_count": 14,
   "id": "dbbe1803",
   "metadata": {},
   "outputs": [],
   "source": [
    "# 오차의 제곱합을 최소로하는 회귀선\n",
    "# y = ax +b 에서\n",
    "# a 는 x와 y의 공분산을 x의 분산으로 나눈 것,\n",
    "# 아래 코드는 수학적 계산을 통해 linearregression의 답과 같은지 확인!!  \n",
    "\n",
    "X = np.array([6,8,10,15,17]).reshape(-1,1)\n",
    "y = np.array([7,9,13,15.3,19.1]).reshape(-1,1)\n"
   ]
  },
  {
   "cell_type": "code",
   "execution_count": 15,
   "id": "b821c8e0",
   "metadata": {},
   "outputs": [],
   "source": [
    "sigma_Xy = np.sum(X*y)\n",
    "sigma_X = np.sum(X)\n",
    "sigma_y = np.sum(y)\n",
    "n = len(X)\n",
    "\n",
    "square_X_sigma = np.sum(X**2)\n",
    "sigma_X_square = np.sum(X)**2"
   ]
  },
  {
   "cell_type": "code",
   "execution_count": 16,
   "id": "642806f0",
   "metadata": {},
   "outputs": [
    {
     "data": {
      "text/plain": [
       "1.01520737327189"
      ]
     },
     "execution_count": 16,
     "metadata": {},
     "output_type": "execute_result"
    }
   ],
   "source": [
    "a = ((sigma_Xy)-((sigma_X*sigma_y)/n)) / ((square_X_sigma)-(sigma_X_square/n))\n",
    "a"
   ]
  },
  {
   "cell_type": "code",
   "execution_count": 17,
   "id": "96ce3418",
   "metadata": {},
   "outputs": [
    {
     "data": {
      "text/plain": [
       "1.3096774193548324"
      ]
     },
     "execution_count": 17,
     "metadata": {},
     "output_type": "execute_result"
    }
   ],
   "source": [
    "b = np.mean(y) - a*np.mean(X)\n",
    "b"
   ]
  },
  {
   "cell_type": "code",
   "execution_count": 21,
   "id": "4f507de6",
   "metadata": {},
   "outputs": [],
   "source": [
    "model2 = LinearRegression().fit(X,y)\n",
    "# print(model2.coef_,model.intercept_)"
   ]
  },
  {
   "cell_type": "code",
   "execution_count": 15,
   "id": "1a6c6c26",
   "metadata": {},
   "outputs": [],
   "source": [
    "# Ridge 는 선형모델에 L2제약조건을 추가\n",
    "# L2제약주건 : 모든 특성에 대한 가중치의 값을 0 주변으로 위치하도록 제어하는 제약조건\n",
    "\n",
    "from sklearn.linear_model import Ridge ,Lasso"
   ]
  },
  {
   "cell_type": "code",
   "execution_count": 23,
   "id": "61217def",
   "metadata": {},
   "outputs": [
    {
     "name": "stdout",
     "output_type": "stream",
     "text": [
      "Ridge: 0.739957023371629\n",
      "Linear: 0.7406426641094095\n"
     ]
    }
   ],
   "source": [
    "# alpha의 값을 크게 걸면 제약 크게 거는 것 -> 모든 특성들의 가중치 값이 0에서 멀어짐\n",
    "# ===> 결국 LinearRegressor 와 동일해짐\n",
    "# alpha 값을 작게 걸면 제약을 작게 거는 것 -> 모든 특성들의 가중치 값이 0주변으로 위치\n",
    "ridge_model = Ridge(alpha=0.5).fit(X.values,y.values)\n",
    "lg_model = LinearRegression().fit(X,y)\n",
    "print(\"Ridge:\",ridge_model.score(X.values,y.values))\n",
    "print(\"Linear:\",lg_model.score(X.values,y.values))\n",
    "\n"
   ]
  },
  {
   "cell_type": "code",
   "execution_count": 33,
   "id": "ba5fd28a",
   "metadata": {},
   "outputs": [
    {
     "name": "stdout",
     "output_type": "stream",
     "text": [
      "Linear_test: 0.8088901199655486\n",
      "Ridge_test: 0.8106095292736756\n"
     ]
    }
   ],
   "source": [
    "print(\"Linear_test:\",lg_model.score(X_test,y_test))\n",
    "print(\"Ridge_test:\",ridge_model.score(X_test,y_test))"
   ]
  },
  {
   "cell_type": "code",
   "execution_count": 22,
   "id": "bea86fb4",
   "metadata": {},
   "outputs": [
    {
     "name": "stdout",
     "output_type": "stream",
     "text": [
      "Lasso: 0.5233631451699069\n"
     ]
    }
   ],
   "source": [
    "# ---- Lasso\n",
    "lasso_model = Lasso(alpha=10).fit(X.values,y.values)\n",
    "print(\"Lasso:\",lasso_model.score(X.values,y.values))"
   ]
  },
  {
   "cell_type": "code",
   "execution_count": 29,
   "id": "f16f2d04",
   "metadata": {},
   "outputs": [
    {
     "data": {
      "text/plain": [
       "<matplotlib.legend.Legend at 0x7f8856e8b610>"
      ]
     },
     "execution_count": 29,
     "metadata": {},
     "output_type": "execute_result"
    },
    {
     "data": {
      "image/png": "[encoded data removed]",
      "text/plain": [
       "<Figure size 432x288 with 1 Axes>"
      ]
     },
     "metadata": {
      "needs_background": "light"
     },
     "output_type": "display_data"
    }
   ],
   "source": [
    "coef_range=np.arange(1,lg_model.coef_.shape[0]+1)\n",
    "plt.plot(coef_range,lg_model.coef_,'ro',label=\"Linear\")\n",
    "plt.plot(coef_range,ridge_model.coef_,'b^',label=\"Ridge\")\n",
    "plt.plot(coef_range,lasso_model.coef_,'gv',label=\"Lasso\")\n",
    "plt.axhline(0,color='y',linestyle='--')\n",
    "plt.legend()"
   ]
  }
 ],
 "metadata": {
  "kernelspec": {
   "display_name": "Python 3",
   "language": "python",
   "name": "python3"
  },
  "language_info": {
   "codemirror_mode": {
    "name": "ipython",
    "version": 3
   },
   "file_extension": ".py",
   "mimetype": "text/x-python",
   "name": "python",
   "nbconvert_exporter": "python",
   "pygments_lexer": "ipython3",
   "version": "3.7.8"
  }
 },
 "nbformat": 4,
 "nbformat_minor": 5
}
