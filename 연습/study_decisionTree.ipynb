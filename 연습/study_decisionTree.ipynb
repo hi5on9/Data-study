{
 "cells": [
  {
   "cell_type": "code",
   "execution_count": 3,
   "id": "a70f5269",
   "metadata": {},
   "outputs": [],
   "source": [
    "from sklearn.tree import DecisionTreeClassifier\n",
    "from sklearn.datasets import load_breast_cancer\n",
    "cancer = load_breast_cancer()\n",
    "X,y = load_breast_cancer(return_X_y=True)\n",
    "\n",
    "from sklearn.model_selection import train_test_split\n",
    "X_train,X_test,y_train,y_test = train_test_split(X,y,random_state=1,stratify=y)"
   ]
  },
  {
   "cell_type": "code",
   "execution_count": 6,
   "id": "8d33bbb6",
   "metadata": {},
   "outputs": [
    {
     "name": "stdout",
     "output_type": "stream",
     "text": [
      "1.0\n",
      "0.9300699300699301\n"
     ]
    }
   ],
   "source": [
    "from sklearn.tree import DecisionTreeClassifier\n",
    "model = DecisionTreeClassifier(max_depth=7,random_state=1).fit(X_train,y_train)\n",
    "\n",
    "print(model.score(X_train,y_train))\n",
    "print(model.score(X_test,y_test))"
   ]
  },
  {
   "cell_type": "code",
   "execution_count": 7,
   "id": "e3002be4",
   "metadata": {},
   "outputs": [
    {
     "name": "stdout",
     "output_type": "stream",
     "text": [
      "0.9976525821596244\n",
      "0.9300699300699301\n"
     ]
    }
   ],
   "source": [
    "model = DecisionTreeClassifier(max_depth=5,random_state=1).fit(X_train,y_train)\n",
    "\n",
    "print(model.score(X_train,y_train))\n",
    "print(model.score(X_test,y_test))"
   ]
  },
  {
   "cell_type": "code",
   "execution_count": 8,
   "id": "01e687ff",
   "metadata": {},
   "outputs": [
    {
     "name": "stdout",
     "output_type": "stream",
     "text": [
      "0.971830985915493\n",
      "0.9440559440559441\n"
     ]
    }
   ],
   "source": [
    "model = DecisionTreeClassifier(max_depth=3,random_state=1).fit(X_train,y_train)\n",
    "\n",
    "print(model.score(X_train,y_train))\n",
    "print(model.score(X_test,y_test))"
   ]
  },
  {
   "cell_type": "markdown",
   "id": "24f98110",
   "metadata": {},
   "source": [
    "- 장점 시각화 가능, scaling의 영향을 받지 않음\n",
    "- 단점 과적합이 될수도 있음, 가지고 있는 데이터 범위 바깥의 데이터 들어오면 틀림\n",
    "\n",
    "\n",
    "시각화는 graphviz 모듈 설치해야 사용가능 .."
   ]
  },
  {
   "cell_type": "code",
   "execution_count": 11,
   "id": "e4c1b10d",
   "metadata": {},
   "outputs": [
    {
     "name": "stdout",
     "output_type": "stream",
     "text": [
      "[0.         0.02002921 0.         0.         0.         0.\n",
      " 0.         0.         0.         0.         0.         0.\n",
      " 0.         0.01078072 0.         0.         0.         0.\n",
      " 0.         0.         0.03140471 0.         0.01440143 0.14607742\n",
      " 0.         0.         0.         0.77730651 0.         0.        ]\n"
     ]
    }
   ],
   "source": [
    "# 어떤 특성을 많이 활용했는지를 볼 수 있음..\n",
    "print(model.feature_importances_)"
   ]
  },
  {
   "cell_type": "code",
   "execution_count": 19,
   "id": "b5e25db6",
   "metadata": {},
   "outputs": [
    {
     "data": {
      "image/png": "[encoded data removed]",
      "text/plain": [
       "<Figure size 432x288 with 1 Axes>"
      ]
     },
     "metadata": {
      "needs_background": "light"
     },
     "output_type": "display_data"
    }
   ],
   "source": [
    "import matplotlib.pyplot as plt\n",
    "import numpy as np\n",
    "import pandas as pd\n",
    "\n",
    "X = pd.DataFrame(X)\n",
    "\n",
    "def plot_feature_importances(model):\n",
    "    n_features = len(X.columns)\n",
    "    plt.barh(range(n_features),\n",
    "            model.feature_importances_,\n",
    "            align='center')\n",
    "    plt.yticks(np.arange(n_features),X.columns)\n",
    "    plt.xlabel(\"feature importances\")\n",
    "    plt.ylabel('feature')\n",
    "    plt.ylim(-1,n_features)\n",
    "plot_feature_importances(model)"
   ]
  },
  {
   "cell_type": "code",
   "execution_count": null,
   "id": "eaf9db7e",
   "metadata": {},
   "outputs": [],
   "source": []
  }
 ],
 "metadata": {
  "kernelspec": {
   "display_name": "Python 3",
   "language": "python",
   "name": "python3"
  },
  "language_info": {
   "codemirror_mode": {
    "name": "ipython",
    "version": 3
   },
   "file_extension": ".py",
   "mimetype": "text/x-python",
   "name": "python",
   "nbconvert_exporter": "python",
   "pygments_lexer": "ipython3",
   "version": "3.7.8"
  }
 },
 "nbformat": 4,
 "nbformat_minor": 5
}
