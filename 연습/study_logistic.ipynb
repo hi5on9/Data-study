{
 "cells": [
  {
   "cell_type": "code",
   "execution_count": 5,
   "id": "b5802ae1",
   "metadata": {},
   "outputs": [],
   "source": [
    "import pandas as pd\n",
    "from sklearn.datasets import load_breast_cancer\n",
    "\n",
    "cancer = load_breast_cancer()\n",
    "\n",
    "X = pd.DataFrame(cancer['data'])\n",
    "y = pd.Series(cancer['target'])\n"
   ]
  },
  {
   "cell_type": "code",
   "execution_count": 6,
   "id": "b8894ad7",
   "metadata": {},
   "outputs": [],
   "source": [
    "from sklearn.model_selection import train_test_split\n",
    "X_train,X_test,y_train,y_test = train_test_split(X.values, y.values,\n",
    "                                                random_state = 700,\n",
    "                                                stratify=y.values)"
   ]
  },
  {
   "cell_type": "code",
   "execution_count": 7,
   "id": "789fa462",
   "metadata": {},
   "outputs": [],
   "source": [
    "from sklearn.neighbors import KNeighborsClassifier\n",
    "from sklearn.linear_model import LogisticRegression\n",
    "\n",
    "knn_model = KNeighborsClassifier(n_neighbors = 5,n_jobs = -1).fit(X_train,y_train)\n",
    "lr_model = LogisticRegression(solver = 'lbfgs',max_iter=5000).fit(X_train,y_train)"
   ]
  },
  {
   "cell_type": "code",
   "execution_count": 12,
   "id": "528343eb",
   "metadata": {},
   "outputs": [
    {
     "name": "stdout",
     "output_type": "stream",
     "text": [
      "학습평가 knn: 0.9483568075117371\n",
      "       LR: 0.9647887323943662\n",
      "테스트 knn: 0.916083916083916\n",
      "       LR: 0.958041958041958\n"
     ]
    }
   ],
   "source": [
    "print('학습평가 knn:',knn_model.score(X_train,y_train))\n",
    "print('       LR:',lr_model.score(X_train,y_train))\n",
    "\n",
    "print('테스트 knn:',knn_model.score(X_test,y_test))\n",
    "print('       LR:',lr_model.score(X_test,y_test))"
   ]
  },
  {
   "cell_type": "markdown",
   "id": "27ca8ee7",
   "metadata": {},
   "source": [
    "#### 1. accuracy : 맞춘비율을 계산하여 얼마나 잘 예측하는지를 계산\n",
    "#### 2. presicion(정밀도) : 맞춘 것들 중 진자 정답인 비율 \n",
    "#### 3. recall(재현율) : 정답 맞춘 갯수 / (오답데이터 빼고) 정답 데이터의 갯수\n",
    "\n",
    "100개의 스팸메일 중 2개가 스팸이라고 예측\n",
    "정밀도는 100%\n",
    "재현율은 2%\n",
    "\n"
   ]
  },
  {
   "cell_type": "code",
   "execution_count": 10,
   "id": "8a760ad5",
   "metadata": {},
   "outputs": [
    {
     "name": "stdout",
     "output_type": "stream",
     "text": [
      "1    0.627417\n",
      "0    0.372583\n",
      "dtype: float64\n"
     ]
    }
   ],
   "source": [
    "print(y.value_counts()/len(y))\n",
    "# 암인 사람의 데이터가 더 많기 때문에 암을 잘 맞출것.."
   ]
  },
  {
   "cell_type": "code",
   "execution_count": 16,
   "id": "361a400d",
   "metadata": {},
   "outputs": [
    {
     "name": "stdout",
     "output_type": "stream",
     "text": [
      "              precision    recall  f1-score   support\n",
      "\n",
      "           0       0.96      0.94      0.95       159\n",
      "           1       0.97      0.98      0.97       267\n",
      "\n",
      "    accuracy                           0.96       426\n",
      "   macro avg       0.96      0.96      0.96       426\n",
      "weighted avg       0.96      0.96      0.96       426\n",
      "\n"
     ]
    }
   ],
   "source": [
    "from sklearn.metrics import classification_report\n",
    "pred_train = lr_model.predict(X_train)\n",
    "pred_test = lr_model.predict(X_test)\n",
    "\n",
    "# (정답 데이터,예측데이터)\n",
    "print(classification_report(y_train,pred_train))\n",
    "# support 는 데이터 갯수 -> 편향 확인 가능"
   ]
  },
  {
   "cell_type": "code",
   "execution_count": 19,
   "id": "f8e26c9b",
   "metadata": {},
   "outputs": [],
   "source": [
    "# 다중분류\n",
    "from sklearn.datasets import load_iris\n",
    "iris = load_iris()\n",
    "X = iris['data']\n",
    "y = iris['target']\n",
    "\n",
    "X_train,X_test,y_train,y_test = train_test_split(X, y,\n",
    "                                                random_state = 1,\n",
    "                                                stratify=y)"
   ]
  },
  {
   "cell_type": "code",
   "execution_count": 21,
   "id": "e791f8f1",
   "metadata": {},
   "outputs": [
    {
     "name": "stdout",
     "output_type": "stream",
     "text": [
      "0    0.333333\n",
      "1    0.333333\n",
      "2    0.333333\n",
      "dtype: float64\n"
     ]
    }
   ],
   "source": [
    "X = pd.DataFrame(X)\n",
    "y = pd.Series(y)\n",
    "print(y.value_counts()/len(y))"
   ]
  },
  {
   "cell_type": "code",
   "execution_count": 22,
   "id": "dc250aff",
   "metadata": {},
   "outputs": [],
   "source": [
    "lr_model = LogisticRegression(C=1,\n",
    "                              solver = 'lbfgs',\n",
    "                              class_weight='balanced',\n",
    "                             random_state =1,\n",
    "                             multi_class='ovr').fit(X_train,y_train)\n",
    "# ovr (one vs rest) 방식 사용\n",
    "# multinomial - softmax 방식 기반"
   ]
  },
  {
   "cell_type": "code",
   "execution_count": 23,
   "id": "74f20863",
   "metadata": {},
   "outputs": [
    {
     "name": "stdout",
     "output_type": "stream",
     "text": [
      "학습결과: 0.9285714285714286\n"
     ]
    }
   ],
   "source": [
    "print('학습결과:',lr_model.score(X_train,y_train))"
   ]
  },
  {
   "cell_type": "code",
   "execution_count": 28,
   "id": "f1801d16",
   "metadata": {},
   "outputs": [
    {
     "name": "stdout",
     "output_type": "stream",
     "text": [
      "예측값 [0 0 0 0 0 0 0 0 0 0 0 0 0 0 0 0 0 0 0 0 0 0 0 0 0 0 0 0 0 0 0 0 0 0 0 0 0\n",
      " 0 0 0 0 0 0 0 0 0 0 0 0 0 2 1 2 1 1 1 2 1 1 1 1 1 1 1 1 1 1 1 1 1 2 1 1 1\n",
      " 1 1 1 2 1 1 1 1 1 1 1 1 2 1 1 1 1 1 1 1 1 1 1 1 1 1 2 2 2 2 2 2 1 2 2 2 2\n",
      " 2 2 1 2 2 2 2 2 1 2 2 2 2 2 2 2 2 2 2 2 2 2 1 1 2 2 2 2 2 2 2 2 2 2 2 2 2\n",
      " 2 2]\n"
     ]
    }
   ],
   "source": [
    "print('예측값',lr_model.predict(X))"
   ]
  },
  {
   "cell_type": "code",
   "execution_count": 30,
   "id": "841adc57",
   "metadata": {},
   "outputs": [
    {
     "name": "stdout",
     "output_type": "stream",
     "text": [
      "              precision    recall  f1-score   support\n",
      "\n",
      "           0       1.00      1.00      1.00        38\n",
      "           1       0.91      0.86      0.89        37\n",
      "           2       0.87      0.92      0.89        37\n",
      "\n",
      "    accuracy                           0.93       112\n",
      "   macro avg       0.93      0.93      0.93       112\n",
      "weighted avg       0.93      0.93      0.93       112\n",
      "\n"
     ]
    }
   ],
   "source": [
    "pred_train = lr_model.predict(X_train)\n",
    "print(classification_report(y_train,pred_train))"
   ]
  },
  {
   "cell_type": "code",
   "execution_count": null,
   "id": "d1144cf9",
   "metadata": {},
   "outputs": [],
   "source": []
  }
 ],
 "metadata": {
  "kernelspec": {
   "display_name": "Python 3",
   "language": "python",
   "name": "python3"
  },
  "language_info": {
   "codemirror_mode": {
    "name": "ipython",
    "version": 3
   },
   "file_extension": ".py",
   "mimetype": "text/x-python",
   "name": "python",
   "nbconvert_exporter": "python",
   "pygments_lexer": "ipython3",
   "version": "3.7.8"
  }
 },
 "nbformat": 4,
 "nbformat_minor": 5
}
