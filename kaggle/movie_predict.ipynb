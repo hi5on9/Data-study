{
 "cells": [
  {
   "cell_type": "code",
   "execution_count": 92,
   "id": "12fbdb0b",
   "metadata": {},
   "outputs": [],
   "source": [
    "import pandas as pd\n",
    "import numpy as np"
   ]
  },
  {
   "cell_type": "code",
   "execution_count": 93,
   "id": "b2b25415",
   "metadata": {},
   "outputs": [],
   "source": [
    "train = pd.read_csv('movies_train.csv')\n",
    "test = pd.read_csv('movies_test.csv')\n",
    "submission = pd.read_csv('submission.csv')"
   ]
  },
  {
   "cell_type": "code",
   "execution_count": 94,
   "id": "0f36ecd3",
   "metadata": {},
   "outputs": [
    {
     "data": {
      "text/html": [
       "<div>\n",
       "<style scoped>\n",
       "    .dataframe tbody tr th:only-of-type {\n",
       "        vertical-align: middle;\n",
       "    }\n",
       "\n",
       "    .dataframe tbody tr th {\n",
       "        vertical-align: top;\n",
       "    }\n",
       "\n",
       "    .dataframe thead th {\n",
       "        text-align: right;\n",
       "    }\n",
       "</style>\n",
       "<table border=\"1\" class=\"dataframe\">\n",
       "  <thead>\n",
       "    <tr style=\"text-align: right;\">\n",
       "      <th></th>\n",
       "      <th>time</th>\n",
       "      <th>dir_prev_bfnum</th>\n",
       "      <th>dir_prev_num</th>\n",
       "      <th>num_staff</th>\n",
       "      <th>num_actor</th>\n",
       "      <th>box_off_num</th>\n",
       "    </tr>\n",
       "  </thead>\n",
       "  <tbody>\n",
       "    <tr>\n",
       "      <th>count</th>\n",
       "      <td>600.000000</td>\n",
       "      <td>270.000000</td>\n",
       "      <td>600.000000</td>\n",
       "      <td>600.000000</td>\n",
       "      <td>600.000000</td>\n",
       "      <td>600.000000</td>\n",
       "    </tr>\n",
       "    <tr>\n",
       "      <th>mean</th>\n",
       "      <td>100.863333</td>\n",
       "      <td>1050442.891420</td>\n",
       "      <td>0.876667</td>\n",
       "      <td>151.118333</td>\n",
       "      <td>3.706667</td>\n",
       "      <td>708181.751667</td>\n",
       "    </tr>\n",
       "    <tr>\n",
       "      <th>std</th>\n",
       "      <td>18.097528</td>\n",
       "      <td>1791408.303462</td>\n",
       "      <td>1.183409</td>\n",
       "      <td>165.654671</td>\n",
       "      <td>2.446889</td>\n",
       "      <td>1828005.851144</td>\n",
       "    </tr>\n",
       "    <tr>\n",
       "      <th>min</th>\n",
       "      <td>45.000000</td>\n",
       "      <td>1.000000</td>\n",
       "      <td>0.000000</td>\n",
       "      <td>0.000000</td>\n",
       "      <td>0.000000</td>\n",
       "      <td>1.000000</td>\n",
       "    </tr>\n",
       "    <tr>\n",
       "      <th>25%</th>\n",
       "      <td>89.000000</td>\n",
       "      <td>20380.000000</td>\n",
       "      <td>0.000000</td>\n",
       "      <td>17.000000</td>\n",
       "      <td>2.000000</td>\n",
       "      <td>1297.250000</td>\n",
       "    </tr>\n",
       "    <tr>\n",
       "      <th>50%</th>\n",
       "      <td>100.000000</td>\n",
       "      <td>478423.625000</td>\n",
       "      <td>0.000000</td>\n",
       "      <td>82.500000</td>\n",
       "      <td>3.000000</td>\n",
       "      <td>12591.000000</td>\n",
       "    </tr>\n",
       "    <tr>\n",
       "      <th>75%</th>\n",
       "      <td>114.000000</td>\n",
       "      <td>1286568.625000</td>\n",
       "      <td>2.000000</td>\n",
       "      <td>264.000000</td>\n",
       "      <td>4.000000</td>\n",
       "      <td>479886.750000</td>\n",
       "    </tr>\n",
       "    <tr>\n",
       "      <th>max</th>\n",
       "      <td>180.000000</td>\n",
       "      <td>17615314.000000</td>\n",
       "      <td>5.000000</td>\n",
       "      <td>869.000000</td>\n",
       "      <td>25.000000</td>\n",
       "      <td>14262766.000000</td>\n",
       "    </tr>\n",
       "  </tbody>\n",
       "</table>\n",
       "</div>"
      ],
      "text/plain": [
       "            time  dir_prev_bfnum  dir_prev_num  num_staff  num_actor  \\\n",
       "count 600.000000      270.000000    600.000000 600.000000 600.000000   \n",
       "mean  100.863333  1050442.891420      0.876667 151.118333   3.706667   \n",
       "std    18.097528  1791408.303462      1.183409 165.654671   2.446889   \n",
       "min    45.000000        1.000000      0.000000   0.000000   0.000000   \n",
       "25%    89.000000    20380.000000      0.000000  17.000000   2.000000   \n",
       "50%   100.000000   478423.625000      0.000000  82.500000   3.000000   \n",
       "75%   114.000000  1286568.625000      2.000000 264.000000   4.000000   \n",
       "max   180.000000 17615314.000000      5.000000 869.000000  25.000000   \n",
       "\n",
       "          box_off_num  \n",
       "count      600.000000  \n",
       "mean    708181.751667  \n",
       "std    1828005.851144  \n",
       "min          1.000000  \n",
       "25%       1297.250000  \n",
       "50%      12591.000000  \n",
       "75%     479886.750000  \n",
       "max   14262766.000000  "
      ]
     },
     "execution_count": 94,
     "metadata": {},
     "output_type": "execute_result"
    }
   ],
   "source": [
    "train.describe()"
   ]
  },
  {
   "cell_type": "code",
   "execution_count": 95,
   "id": "963d0562",
   "metadata": {},
   "outputs": [
    {
     "name": "stdout",
     "output_type": "stream",
     "text": [
      "<class 'pandas.core.frame.DataFrame'>\n",
      "RangeIndex: 600 entries, 0 to 599\n",
      "Data columns (total 12 columns):\n",
      " #   Column          Non-Null Count  Dtype  \n",
      "---  ------          --------------  -----  \n",
      " 0   title           600 non-null    object \n",
      " 1   distributor     600 non-null    object \n",
      " 2   genre           600 non-null    object \n",
      " 3   release_time    600 non-null    object \n",
      " 4   time            600 non-null    int64  \n",
      " 5   screening_rat   600 non-null    object \n",
      " 6   director        600 non-null    object \n",
      " 7   dir_prev_bfnum  270 non-null    float64\n",
      " 8   dir_prev_num    600 non-null    int64  \n",
      " 9   num_staff       600 non-null    int64  \n",
      " 10  num_actor       600 non-null    int64  \n",
      " 11  box_off_num     600 non-null    int64  \n",
      "dtypes: float64(1), int64(5), object(6)\n",
      "memory usage: 56.4+ KB\n"
     ]
    }
   ],
   "source": [
    "train.info()"
   ]
  },
  {
   "cell_type": "code",
   "execution_count": 96,
   "id": "4029ed7d",
   "metadata": {},
   "outputs": [
    {
     "data": {
      "text/html": [
       "<div>\n",
       "<style scoped>\n",
       "    .dataframe tbody tr th:only-of-type {\n",
       "        vertical-align: middle;\n",
       "    }\n",
       "\n",
       "    .dataframe tbody tr th {\n",
       "        vertical-align: top;\n",
       "    }\n",
       "\n",
       "    .dataframe thead th {\n",
       "        text-align: right;\n",
       "    }\n",
       "</style>\n",
       "<table border=\"1\" class=\"dataframe\">\n",
       "  <thead>\n",
       "    <tr style=\"text-align: right;\">\n",
       "      <th></th>\n",
       "      <th>time</th>\n",
       "      <th>dir_prev_bfnum</th>\n",
       "      <th>dir_prev_num</th>\n",
       "      <th>num_staff</th>\n",
       "      <th>num_actor</th>\n",
       "    </tr>\n",
       "  </thead>\n",
       "  <tbody>\n",
       "    <tr>\n",
       "      <th>count</th>\n",
       "      <td>243.000000</td>\n",
       "      <td>107.000000</td>\n",
       "      <td>243.000000</td>\n",
       "      <td>243.000000</td>\n",
       "      <td>243.000000</td>\n",
       "    </tr>\n",
       "    <tr>\n",
       "      <th>mean</th>\n",
       "      <td>109.798354</td>\n",
       "      <td>891669.516044</td>\n",
       "      <td>0.851852</td>\n",
       "      <td>159.316872</td>\n",
       "      <td>3.477366</td>\n",
       "    </tr>\n",
       "    <tr>\n",
       "      <th>std</th>\n",
       "      <td>124.022711</td>\n",
       "      <td>1217341.454572</td>\n",
       "      <td>1.200321</td>\n",
       "      <td>162.976607</td>\n",
       "      <td>2.111192</td>\n",
       "    </tr>\n",
       "    <tr>\n",
       "      <th>min</th>\n",
       "      <td>40.000000</td>\n",
       "      <td>34.000000</td>\n",
       "      <td>0.000000</td>\n",
       "      <td>0.000000</td>\n",
       "      <td>0.000000</td>\n",
       "    </tr>\n",
       "    <tr>\n",
       "      <th>25%</th>\n",
       "      <td>91.000000</td>\n",
       "      <td>62502.000000</td>\n",
       "      <td>0.000000</td>\n",
       "      <td>18.000000</td>\n",
       "      <td>2.000000</td>\n",
       "    </tr>\n",
       "    <tr>\n",
       "      <th>50%</th>\n",
       "      <td>104.000000</td>\n",
       "      <td>493120.000000</td>\n",
       "      <td>0.000000</td>\n",
       "      <td>105.000000</td>\n",
       "      <td>3.000000</td>\n",
       "    </tr>\n",
       "    <tr>\n",
       "      <th>75%</th>\n",
       "      <td>114.500000</td>\n",
       "      <td>1080849.583333</td>\n",
       "      <td>1.000000</td>\n",
       "      <td>282.000000</td>\n",
       "      <td>4.000000</td>\n",
       "    </tr>\n",
       "    <tr>\n",
       "      <th>max</th>\n",
       "      <td>2015.000000</td>\n",
       "      <td>6173099.500000</td>\n",
       "      <td>6.000000</td>\n",
       "      <td>776.000000</td>\n",
       "      <td>16.000000</td>\n",
       "    </tr>\n",
       "  </tbody>\n",
       "</table>\n",
       "</div>"
      ],
      "text/plain": [
       "             time  dir_prev_bfnum  dir_prev_num  num_staff  num_actor\n",
       "count  243.000000      107.000000    243.000000 243.000000 243.000000\n",
       "mean   109.798354   891669.516044      0.851852 159.316872   3.477366\n",
       "std    124.022711  1217341.454572      1.200321 162.976607   2.111192\n",
       "min     40.000000       34.000000      0.000000   0.000000   0.000000\n",
       "25%     91.000000    62502.000000      0.000000  18.000000   2.000000\n",
       "50%    104.000000   493120.000000      0.000000 105.000000   3.000000\n",
       "75%    114.500000  1080849.583333      1.000000 282.000000   4.000000\n",
       "max   2015.000000  6173099.500000      6.000000 776.000000  16.000000"
      ]
     },
     "execution_count": 96,
     "metadata": {},
     "output_type": "execute_result"
    }
   ],
   "source": [
    "test.describe()"
   ]
  },
  {
   "cell_type": "code",
   "execution_count": 97,
   "id": "e20c6906",
   "metadata": {},
   "outputs": [
    {
     "name": "stdout",
     "output_type": "stream",
     "text": [
      "<class 'pandas.core.frame.DataFrame'>\n",
      "RangeIndex: 243 entries, 0 to 242\n",
      "Data columns (total 11 columns):\n",
      " #   Column          Non-Null Count  Dtype  \n",
      "---  ------          --------------  -----  \n",
      " 0   title           243 non-null    object \n",
      " 1   distributor     243 non-null    object \n",
      " 2   genre           243 non-null    object \n",
      " 3   release_time    243 non-null    object \n",
      " 4   time            243 non-null    int64  \n",
      " 5   screening_rat   243 non-null    object \n",
      " 6   director        243 non-null    object \n",
      " 7   dir_prev_bfnum  107 non-null    float64\n",
      " 8   dir_prev_num    243 non-null    int64  \n",
      " 9   num_staff       243 non-null    int64  \n",
      " 10  num_actor       243 non-null    int64  \n",
      "dtypes: float64(1), int64(4), object(6)\n",
      "memory usage: 21.0+ KB\n"
     ]
    }
   ],
   "source": [
    "test.info()"
   ]
  },
  {
   "cell_type": "code",
   "execution_count": 98,
   "id": "245343ee",
   "metadata": {},
   "outputs": [
    {
     "name": "stdout",
     "output_type": "stream",
     "text": [
      "(600, 12)\n",
      "(243, 11)\n"
     ]
    }
   ],
   "source": [
    "print(train.shape)\n",
    "print(test.shape)"
   ]
  },
  {
   "cell_type": "code",
   "execution_count": 99,
   "id": "66ea02ea",
   "metadata": {},
   "outputs": [],
   "source": [
    "import matplotlib.pyplot as plt\n",
    "plt.rc('font',family='AppleGothic')"
   ]
  },
  {
   "cell_type": "code",
   "execution_count": 100,
   "id": "18a06c9a",
   "metadata": {},
   "outputs": [],
   "source": [
    "train['genre_rank'] = train['genre'].map({\n",
    "    '드라마':0,'다큐멘터리':1,'멜로/로맨스':2,\n",
    "    '코미디':3,'공포':4,'액션':5,'느와르':6,\n",
    "    '애니메이션':7,'미스터리':8,'SF':9,'뮤지컬':10,'서스펜스':11\n",
    "})\n",
    "\n",
    "test['genre_rank'] = test['genre'].map({\n",
    "    '드라마':0,'다큐멘터리':1,'멜로/로맨스':2,\n",
    "    '코미디':3,'공포':4,'액션':5,'느와르':6,\n",
    "    '애니메이션':7,'미스터리':8,'SF':9,'뮤지컬':10,'서스펜스':11\n",
    "})\n"
   ]
  },
  {
   "cell_type": "code",
   "execution_count": 104,
   "id": "90646661",
   "metadata": {},
   "outputs": [
    {
     "data": {
      "text/plain": [
       "드라마       221\n",
       "다큐멘터리      93\n",
       "멜로/로맨스     78\n",
       "코미디        53\n",
       "공포         42\n",
       "액션         28\n",
       "느와르        27\n",
       "애니메이션      21\n",
       "미스터리       17\n",
       "SF         13\n",
       "뮤지컬         5\n",
       "서스펜스        2\n",
       "Name: genre, dtype: int64"
      ]
     },
     "execution_count": 104,
     "metadata": {},
     "output_type": "execute_result"
    }
   ],
   "source": [
    "train['genre'].value_counts()"
   ]
  },
  {
   "cell_type": "code",
   "execution_count": 103,
   "id": "59dbb84a",
   "metadata": {},
   "outputs": [
    {
     "data": {
      "text/plain": [
       "<AxesSubplot:>"
      ]
     },
     "execution_count": 103,
     "metadata": {},
     "output_type": "execute_result"
    },
    {
     "data": {
      "image/png": "[encoded data removed]",
      "text/plain": [
       "<Figure size 432x288 with 1 Axes>"
      ]
     },
     "metadata": {
      "needs_background": "light"
     },
     "output_type": "display_data"
    }
   ],
   "source": [
    "train['genre_rank'].value_counts().plot(kind='bar',rot=0)"
   ]
  },
  {
   "cell_type": "code",
   "execution_count": 105,
   "id": "14891c0b",
   "metadata": {},
   "outputs": [
    {
     "data": {
      "text/plain": [
       "<AxesSubplot:xlabel='box_off_num', ylabel='genre'>"
      ]
     },
     "execution_count": 105,
     "metadata": {},
     "output_type": "execute_result"
    },
    {
     "data": {
      "image/png": "[encoded data removed]",
      "text/plain": [
       "<Figure size 432x288 with 1 Axes>"
      ]
     },
     "metadata": {
      "needs_background": "light"
     },
     "output_type": "display_data"
    }
   ],
   "source": [
    "train.plot('box_off_num','genre',kind='scatter')"
   ]
  },
  {
   "cell_type": "code",
   "execution_count": 106,
   "id": "8ced099d",
   "metadata": {},
   "outputs": [
    {
     "data": {
      "text/plain": [
       "청소년 관람불가    204\n",
       "15세 관람가     202\n",
       "12세 관람가     102\n",
       "전체 관람가       92\n",
       "Name: screening_rat, dtype: int64"
      ]
     },
     "execution_count": 106,
     "metadata": {},
     "output_type": "execute_result"
    }
   ],
   "source": [
    "train['screening_rat'].value_counts()"
   ]
  },
  {
   "cell_type": "code",
   "execution_count": 107,
   "id": "6d8274a8",
   "metadata": {},
   "outputs": [],
   "source": [
    "train['screening_rat_rank']=train['screening_rat'].map({\n",
    "    '청소년 관람불가':0,\n",
    "    '15세 관람가':1,\n",
    "    '12세 관람가':2,\n",
    "    '전체 관람가':3\n",
    "})\n",
    "test['screening_rat_rank']=test['screening_rat'].map({\n",
    "    '청소년 관람불가':0,\n",
    "    '15세 관람가':1,\n",
    "    '12세 관람가':2,\n",
    "    '전체 관람가':3\n",
    "})"
   ]
  },
  {
   "cell_type": "code",
   "execution_count": 108,
   "id": "3ceb0048",
   "metadata": {},
   "outputs": [
    {
     "name": "stdout",
     "output_type": "stream",
     "text": [
      "<class 'pandas.core.frame.DataFrame'>\n",
      "RangeIndex: 600 entries, 0 to 599\n",
      "Data columns (total 14 columns):\n",
      " #   Column              Non-Null Count  Dtype  \n",
      "---  ------              --------------  -----  \n",
      " 0   title               600 non-null    object \n",
      " 1   distributor         600 non-null    object \n",
      " 2   genre               600 non-null    object \n",
      " 3   release_time        600 non-null    object \n",
      " 4   time                600 non-null    int64  \n",
      " 5   screening_rat       600 non-null    object \n",
      " 6   director            600 non-null    object \n",
      " 7   dir_prev_bfnum      270 non-null    float64\n",
      " 8   dir_prev_num        600 non-null    int64  \n",
      " 9   num_staff           600 non-null    int64  \n",
      " 10  num_actor           600 non-null    int64  \n",
      " 11  box_off_num         600 non-null    int64  \n",
      " 12  genre_rank          600 non-null    int64  \n",
      " 13  screening_rat_rank  600 non-null    int64  \n",
      "dtypes: float64(1), int64(7), object(6)\n",
      "memory usage: 65.8+ KB\n"
     ]
    }
   ],
   "source": [
    "train.info()"
   ]
  },
  {
   "cell_type": "code",
   "execution_count": 87,
   "id": "e44fe1f9",
   "metadata": {},
   "outputs": [],
   "source": [
    "pd.options.display.float_format = '{:1f}'.format"
   ]
  },
  {
   "cell_type": "code",
   "execution_count": 110,
   "id": "0f4d53ac",
   "metadata": {},
   "outputs": [
    {
     "data": {
      "text/plain": [
       "genre\n",
       "뮤지컬         6627.000000\n",
       "다큐멘터리      67172.258065\n",
       "서스펜스       82611.000000\n",
       "애니메이션     181926.666667\n",
       "멜로/로맨스    425968.038462\n",
       "미스터리      527548.176471\n",
       "공포        590832.523810\n",
       "드라마       625689.791855\n",
       "코미디      1193914.000000\n",
       "SF       1788345.692308\n",
       "액션       2203974.071429\n",
       "느와르      2263695.111111\n",
       "Name: box_off_num, dtype: float64"
      ]
     },
     "execution_count": 110,
     "metadata": {},
     "output_type": "execute_result"
    }
   ],
   "source": [
    "train.groupby('genre').box_off_num.mean().sort_values()"
   ]
  },
  {
   "cell_type": "code",
   "execution_count": null,
   "id": "5c040dd2",
   "metadata": {},
   "outputs": [],
   "source": []
  }
 ],
 "metadata": {
  "kernelspec": {
   "display_name": "Python 3",
   "language": "python",
   "name": "python3"
  },
  "language_info": {
   "codemirror_mode": {
    "name": "ipython",
    "version": 3
   },
   "file_extension": ".py",
   "mimetype": "text/x-python",
   "name": "python",
   "nbconvert_exporter": "python",
   "pygments_lexer": "ipython3",
   "version": "3.7.8"
  }
 },
 "nbformat": 4,
 "nbformat_minor": 5
}
